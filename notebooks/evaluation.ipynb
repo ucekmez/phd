{
 "cells": [
  {
   "cell_type": "code",
   "execution_count": 1,
   "metadata": {},
   "outputs": [],
   "source": [
    "import json, numpy as np, pandas as pd, os"
   ]
  },
  {
   "cell_type": "code",
   "execution_count": 2,
   "metadata": {},
   "outputs": [],
   "source": [
    "FOLDER = './results/reports/'\n",
    "# this notebook creates the weighted average of results from each fold of every up-sampling methods"
   ]
  },
  {
   "cell_type": "code",
   "execution_count": 3,
   "metadata": {},
   "outputs": [
    {
     "name": "stdout",
     "output_type": "stream",
     "text": [
      "./results/reports/classifier_raw_reports.json is being processed... \n"
     ]
    },
    {
     "name": "stderr",
     "output_type": "stream",
     "text": [
      "/usr/local/lib/python3.6/dist-packages/ipykernel_launcher.py:44: SettingWithCopyWarning: \n",
      "A value is trying to be set on a copy of a slice from a DataFrame\n",
      "\n",
      "See the caveats in the documentation: http://pandas.pydata.org/pandas-docs/stable/user_guide/indexing.html#returning-a-view-versus-a-copy\n"
     ]
    }
   ],
   "source": [
    "all_labels = ['BENIGN', 'DoS Hulk', 'SSH-Patator', 'PortScan', 'DoS GoldenEye', 'DDoS', 'Heartbleed', 'Web Attack Brute Force', 'FTP-Patator', \n",
    "              'Web Attack XSS', 'DoS slowloris', 'Infiltration', 'Bot', 'Web Attack Sql Injection', 'DoS Slowhttptest']\n",
    "\n",
    "for f in os.listdir(FOLDER):\n",
    "    report_file = os.path.join(FOLDER, f)\n",
    "    if 'reports.json' in report_file:\n",
    "        print('{} is being processed... '.format(report_file))\n",
    "\n",
    "        report = json.loads(open(report_file, 'r').read())\n",
    "\n",
    "        results  = []\n",
    "        acc      = []\n",
    "        macro    = []\n",
    "        weighted = []\n",
    "        for k in list(report.keys())[:-1]:\n",
    "            result = []\n",
    "            for l in report[k]:\n",
    "                line = l.split()\n",
    "                if len(line) > 0 and line[0] in ''.join(list(map(lambda x: str(x), range(15)))):\n",
    "                    result.append(list(map(lambda x: round(float(x),6), line[1:-1])))\n",
    "                if len(line) > 0 and (line[0] == 'accuracy'):\n",
    "                    acc.append(list(map(lambda x: round(float(x),6), line[1:-1])))\n",
    "                elif len(line) > 0 and (line[0] == 'macro'):\n",
    "                    macro.append(list(map(lambda x: round(float(x),6), line[2:-1])))\n",
    "                elif len(line) > 0 and (line[0] == 'weighted'):\n",
    "                    weighted.append(list(map(lambda x: round(float(x),6), line[2:-1])))\n",
    "            results.append(result)\n",
    "        results  = sum(np.array(results)) / 5.0\n",
    "        acc      = sum(np.array(acc)) / 5.0\n",
    "        macro    = sum(np.array(macro)) / 5.0\n",
    "        weighted = sum(np.array(weighted)) / 5.0\n",
    "\n",
    "        overall = list(map(lambda x: np.concatenate([x[1], [all_labels[x[0]]]], axis=0), enumerate(results)))\n",
    "        overall.append(['-', '-', '-', '-'])\n",
    "        overall.append(['-', '-', acc[0], 'Accuracy'])\n",
    "        overall.append(np.concatenate([macro, ['Macro Avg']], axis=0))\n",
    "        overall.append(np.concatenate([weighted, ['Weighted Avg']], axis=0))\n",
    "\n",
    "        df = pd.DataFrame(overall, columns=['precision', 'recall', 'f1-score', 'label'], dtype=np.float)\n",
    "        df['precision'] = df['precision'].apply(lambda x: x[:8])\n",
    "        df['recall']    = df['recall'].apply(lambda x: x[:8])\n",
    "        df['f1-score']  = df['f1-score'].apply(lambda x: str(x)[:8])\n",
    "        df['time']      = report['time'] / 60\n",
    "        df['time'][:18] = ''\n",
    "        df.to_csv('{}_overall.csv'.format(report_file.split('.json')[0]))"
   ]
  },
  {
   "cell_type": "code",
   "execution_count": null,
   "metadata": {},
   "outputs": [],
   "source": []
  }
 ],
 "metadata": {
  "kernelspec": {
   "display_name": "Python 3",
   "language": "python",
   "name": "python3"
  },
  "language_info": {
   "codemirror_mode": {
    "name": "ipython",
    "version": 3
   },
   "file_extension": ".py",
   "mimetype": "text/x-python",
   "name": "python",
   "nbconvert_exporter": "python",
   "pygments_lexer": "ipython3",
   "version": "3.6.9"
  }
 },
 "nbformat": 4,
 "nbformat_minor": 4
}
