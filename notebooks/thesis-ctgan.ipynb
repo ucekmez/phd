{
 "cells": [
  {
   "cell_type": "code",
   "execution_count": 1,
   "metadata": {},
   "outputs": [],
   "source": [
    "from functions import *\n",
    "\n",
    "os.environ[\"CUDA_VISIBLE_DEVICES\"] = \"3\"\n",
    "FEATURE                          = \"raw\"\n",
    "__DATASET__                      = 'sets/cicids_'+FEATURE+'.h5'\n",
    "CHECKPOINT_NAME                  = 'ctgan'"
   ]
  },
  {
   "cell_type": "code",
   "execution_count": 2,
   "metadata": {},
   "outputs": [],
   "source": [
    "classifier = CLSmodel(__DATASET__, CHECKPOINT_NAME, kfold=True)"
   ]
  },
  {
   "cell_type": "code",
   "execution_count": null,
   "metadata": {},
   "outputs": [
    {
     "name": "stdout",
     "output_type": "stream",
     "text": [
      "\n",
      "###########\n",
      "fold #1 is in progress..\n",
      "###########\n",
      "\n"
     ]
    },
    {
     "name": "stderr",
     "output_type": "stream",
     "text": [
      "  0%|          | 0/11 [00:00<?, ?it/s]"
     ]
    },
    {
     "name": "stdout",
     "output_type": "stream",
     "text": [
      "\n",
      "\n",
      "-----------\n",
      "\n",
      "{2: 27088, 4: 23571, 6: 31785, 7: 30600, 8: 25457, 9: 31283, 10: 27168, 11: 31776, 12: 30240, 13: 31768, 14: 27405}\n",
      "\n",
      "\n",
      "-----------\n",
      "\n",
      "\n",
      "###########\n",
      "adding ctgan synthetic samples ..\n",
      "###########\n",
      "\n",
      "\n",
      "{2: 27088, 4: 23571, 6: 31785, 7: 30600, 8: 25457, 9: 31283, 10: 27168, 11: 31776, 12: 30240, 13: 31768, 14: 27405}\n",
      "\n",
      "Epoch 1, Loss G: -56.7784, Loss D: -71.9382\n",
      "Epoch 2, Loss G: -52.8109, Loss D: -60.3548\n",
      "Epoch 3, Loss G: -72.4878, Loss D: -76.8378\n",
      "Epoch 4, Loss G: -67.0453, Loss D: -57.0928\n",
      "Epoch 5, Loss G: -74.4746, Loss D: -75.0693\n",
      "Epoch 6, Loss G: -82.6392, Loss D: -68.7033\n",
      "Epoch 7, Loss G: -69.4507, Loss D: -78.9144\n",
      "Epoch 8, Loss G: -53.1317, Loss D: -60.0834\n",
      "Epoch 9, Loss G: -77.0298, Loss D: -67.8042\n",
      "Epoch 10, Loss G: -73.4832, Loss D: -79.5485\n",
      "Epoch 11, Loss G: -67.5658, Loss D: -66.5421\n",
      "Epoch 12, Loss G: -48.3627, Loss D: -65.5920\n",
      "Epoch 13, Loss G: -55.4203, Loss D: -82.2108\n",
      "Epoch 14, Loss G: -62.7695, Loss D: -94.8864\n",
      "Epoch 15, Loss G: -84.4312, Loss D: -92.4036\n",
      "Epoch 16, Loss G: -46.6774, Loss D: -89.4728\n",
      "Epoch 17, Loss G: -65.6963, Loss D: -75.5135\n",
      "Epoch 18, Loss G: -61.7262, Loss D: -82.0593\n",
      "Epoch 19, Loss G: -45.6038, Loss D: -114.9177\n",
      "Epoch 20, Loss G: -66.2420, Loss D: -91.5079\n",
      "Epoch 21, Loss G: -29.4468, Loss D: -92.8137\n",
      "Epoch 22, Loss G: -33.7917, Loss D: -99.7459\n",
      "Epoch 23, Loss G: -57.5525, Loss D: -117.1658\n",
      "Epoch 24, Loss G: -39.0222, Loss D: -140.1921\n",
      "Epoch 25, Loss G: -42.8320, Loss D: -140.1928\n",
      "Epoch 26, Loss G: -29.8219, Loss D: -90.4928\n",
      "Epoch 27, Loss G: -47.2221, Loss D: -124.7427\n",
      "Epoch 28, Loss G: -51.6065, Loss D: -131.7620\n",
      "Epoch 29, Loss G: -27.9350, Loss D: -121.9939\n",
      "Epoch 30, Loss G: -41.4359, Loss D: -95.9613\n",
      "Epoch 31, Loss G: -42.5109, Loss D: -148.3736\n",
      "Epoch 32, Loss G: -23.5625, Loss D: -149.7257\n",
      "Epoch 33, Loss G: -32.9516, Loss D: -162.4787\n",
      "Epoch 34, Loss G: -31.4360, Loss D: -164.1474\n",
      "Epoch 35, Loss G: -50.9881, Loss D: -159.2768\n",
      "Epoch 36, Loss G: -40.5480, Loss D: -218.0580\n",
      "Epoch 37, Loss G: -38.4133, Loss D: -135.7262\n",
      "Epoch 38, Loss G: -31.5082, Loss D: -159.3375\n",
      "Epoch 39, Loss G: -40.6528, Loss D: -159.1243\n",
      "Epoch 40, Loss G: -32.9365, Loss D: -182.8012\n",
      "Epoch 41, Loss G: -40.0578, Loss D: -139.9432\n",
      "Epoch 42, Loss G: -25.5214, Loss D: -141.6567\n",
      "Epoch 43, Loss G: -34.1568, Loss D: -201.1985\n",
      "Epoch 44, Loss G: -32.1561, Loss D: -220.1598\n",
      "Epoch 45, Loss G: -25.5876, Loss D: -162.1991\n",
      "Epoch 46, Loss G: -34.8415, Loss D: -188.9767\n",
      "Epoch 47, Loss G: -32.3231, Loss D: -189.1978\n"
     ]
    }
   ],
   "source": [
    "classifier.pipeline(batch_size=10240, epochs=100, numfolds=5, upsampling=CHECKPOINT_NAME)"
   ]
  },
  {
   "cell_type": "code",
   "execution_count": null,
   "metadata": {},
   "outputs": [],
   "source": []
  }
 ],
 "metadata": {
  "kernelspec": {
   "display_name": "Python 3",
   "language": "python",
   "name": "python3"
  },
  "language_info": {
   "codemirror_mode": {
    "name": "ipython",
    "version": 3
   },
   "file_extension": ".py",
   "mimetype": "text/x-python",
   "name": "python",
   "nbconvert_exporter": "python",
   "pygments_lexer": "ipython3",
   "version": "3.6.9"
  }
 },
 "nbformat": 4,
 "nbformat_minor": 4
}
